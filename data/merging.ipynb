{
 "cells": [
  {
   "cell_type": "code",
   "execution_count": 3,
   "metadata": {},
   "outputs": [],
   "source": [
    "import pandas as pd"
   ]
  },
  {
   "cell_type": "code",
   "execution_count": 4,
   "metadata": {},
   "outputs": [],
   "source": [
    "(pd.concat([\n",
    "    pd.read_csv('./190015853.csv'), # reading data...\n",
    "    pd.read_csv('./190127180.csv'),\n",
    "    pd.read_csv('./190029498.csv')\n",
    "])\\\n",
    "    .drop_duplicates() # ommiting duplicates\n",
    "    .dropna() # omitting nas\n",
    "    .to_csv('./saeb.csv')\n",
    ")"
   ]
  }
 ],
 "metadata": {
  "kernelspec": {
   "name": "python3",
   "display_name": "Python 3"
  },
  "language_info": {
   "codemirror_mode": {
    "name": "ipython",
    "version": 3
   },
   "file_extension": ".py",
   "mimetype": "text/x-python",
   "name": "python",
   "nbconvert_exporter": "python",
   "pygments_lexer": "ipython3",
   "version": "3.8.5-final"
  }
 },
 "nbformat": 4,
 "nbformat_minor": 2
}