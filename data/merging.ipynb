{
 "cells": [
  {
   "cell_type": "code",
   "execution_count": 22,
   "metadata": {},
   "outputs": [],
   "source": [
    "import pandas as pd"
   ]
  },
  {
   "cell_type": "code",
   "execution_count": 14,
   "metadata": {},
   "outputs": [],
   "source": [
    "saeb = (pd.concat([\n",
    "    pd.read_csv('190015853.csv'), # reading data...\n",
    "    pd.read_csv('190127180.csv'),\n",
    "    pd.read_csv('190029498.csv')\n",
    "])\\\n",
    "    .drop_duplicates() # ommiting duplicates\n",
    "    .dropna() # omitting nas\n",
    ")\n",
    "\n",
    "saeb['ESC_MAE'].replace({\n",
    "    'a [48]\\.ª série\\/' : 'o '\n",
    "},\n",
    "    regex = True,\n",
    "    inplace = True)\n",
    "\n",
    "saeb.to_csv('saeb.csv', encoding='utf-8')"
   ]
  },
  {
   "cell_type": "code",
   "execution_count": null,
   "metadata": {},
   "outputs": [],
   "source": []
  }
 ],
 "metadata": {
  "kernelspec": {
   "name": "python3",
   "display_name": "Python 3"
  },
  "language_info": {
   "codemirror_mode": {
    "name": "ipython",
    "version": 3
   },
   "file_extension": ".py",
   "mimetype": "text/x-python",
   "name": "python",
   "nbconvert_exporter": "python",
   "pygments_lexer": "ipython3",
   "version": "3.7.3-final"
  }
 },
 "nbformat": 4,
 "nbformat_minor": 2
}