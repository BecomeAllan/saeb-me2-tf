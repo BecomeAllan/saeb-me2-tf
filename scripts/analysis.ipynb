{
 "cells": [
  {
   "cell_type": "markdown",
   "metadata": {},
   "source": [
    "TRABALHO FINAL\n",
    "O Trabalho Final, que poderá ser realizado em grupo de até 3 componentes, terá como tema as \"Desigualdades Educacionais no Brasil\". O Trabalho Final deverá ser elaborado no formato de artigo científico, contendo as seguintes seções: Resumo, Introdução, Métodos, Resultados, Conclusões e Referências. Seguindo formato de apresentação de trabalhos e artigos em diversas revistas e congressos, o artigo a ser elaborado por vocês deverá seguir as seguintes normas:\n",
    "\n",
    "1) Máximo de 2500 palavras (sem contar as referências bibliográficas)\n",
    "\n",
    "2) Capa com identidade visual da Universidade de Brasília, incluindo IE e Departamento de Estatística. Título do artigo. Nome dos autores. Data\n",
    "\n",
    "3) Máximo de 5 tabelas e 5 gráficos.\n",
    "\n",
    "O Trabalho Final utilizará os dados dos resultados do SAEB - 9o. ano do Ensino Fundamental de 2017 (amostras recebidas no início do semestre), e deverá considerar na análise:\n",
    "\n",
    "Como fatores ou variáveis explicativas:\n",
    "ao menos uma entre as seguintes variáveis (AREA, REGIÃO, LOCALIZAÇÃO)\n",
    "ao menos três entre as seguintes variáveis (SEXO, RAÇA/COR, IDADE, ESCOLARIDADE DA MÃE, TRABALHO, USO DO TEMPO) \n",
    "Como variáveis de interesse ou variáveis a serem explicadas\n",
    "ao menos uma entre as seguintes variáveis (NOTA_LP, NOTA_MT)\n",
    "ao menos uma entre as seguintes variáveis (USO DO TEMPO, AFAZERES DOMÉSTICOS, PERSPECTIVAS)\n",
    "OBS: A variável IDADE deve ser construída a partir da variável ANO de NASCIMENTO, e poderá ser categorizada em: 1) Não tem defasagem idade/série (para nascidos a partir de 2002, e 2) Tem defasagem idade/série (para nascidos antes de 2002)\n",
    "\n",
    "Critérios de avaliação:\n",
    "\n",
    "Apresentação da questão a ser abordada no artigo e dos objetivos da análise de dados?\n",
    "Coerência do trabalho (tem um fio condutor claro?) \n",
    "Estrutura do trabalho (Apresenta: resumo? título? introdução? métodos? resultados que embasam a discussão sobre as desigualdades educacionais? conclusão? referências bibliográficas?)  \n",
    "Ferramentas estatísticas corretas para a análise dos dados utilizados, com justificativa mencionada em \"Métodos\".\n",
    "Respeito às normas de apresentação do artigo estabelecidas acima."
   ]
  },
  {
   "cell_type": "code",
   "execution_count": null,
   "metadata": {},
   "outputs": [],
   "source": [
    "%%capture\n",
    "# loading R extension\n",
    "%load_ext rpy2.ipython\n",
    "# importing Python modules\n",
    "import pandas as pd, scipy.stats as st"
   ]
  },
  {
   "cell_type": "code",
   "execution_count": null,
   "metadata": {},
   "outputs": [],
   "source": [
    "%%capture\n",
    "%%R\n",
    "library(tidyverse) # loading R's package tidyverse"
   ]
  },
  {
   "cell_type": "code",
   "execution_count": null,
   "metadata": {},
   "outputs": [],
   "source": [
    "saeb = pd.read_csv('../data/saeb.csv') # loading the data"
   ]
  }
 ],
 "metadata": {
  "kernelspec": {
   "display_name": "Python 3.7.3 64-bit",
   "metadata": {
    "interpreter": {
     "hash": "31f2aee4e71d21fbe5cf8b01ff0e069b9275f58929596ceb00d14d90e3e16cd6"
    }
   },
   "name": "python3"
  },
  "language_info": {
   "codemirror_mode": {
    "name": "ipython",
    "version": 3
   },
   "file_extension": ".py",
   "mimetype": "text/x-python",
   "name": "python",
   "nbconvert_exporter": "python",
   "pygments_lexer": "ipython3",
   "version": "3.7.3-final"
  }
 },
 "nbformat": 4,
 "nbformat_minor": 2
}
